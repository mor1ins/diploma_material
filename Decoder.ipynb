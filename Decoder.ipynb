{
 "cells": [
  {
   "cell_type": "code",
   "execution_count": 1,
   "metadata": {
    "hide_input": true
   },
   "outputs": [],
   "source": [
    "ip = get_ipython()\n",
    "ibe = ip.configurables[-1]\n",
    "ibe.figure_formats = { 'pdf', 'png'}"
   ]
  },
  {
   "cell_type": "code",
   "execution_count": 5,
   "metadata": {
    "hide_input": true
   },
   "outputs": [
    {
     "ename": "ModuleNotFoundError",
     "evalue": "No module named 'constants'",
     "output_type": "error",
     "traceback": [
      "\u001b[0;31m---------------------------------------------------------------------------\u001b[0m",
      "\u001b[0;31mModuleNotFoundError\u001b[0m                       Traceback (most recent call last)",
      "\u001b[0;32m<ipython-input-5-21e8065f33b4>\u001b[0m in \u001b[0;36m<module>\u001b[0;34m\u001b[0m\n\u001b[1;32m      1\u001b[0m \u001b[0mget_ipython\u001b[0m\u001b[0;34m(\u001b[0m\u001b[0;34m)\u001b[0m\u001b[0;34m.\u001b[0m\u001b[0mrun_line_magic\u001b[0m\u001b[0;34m(\u001b[0m\u001b[0;34m'matplotlib'\u001b[0m\u001b[0;34m,\u001b[0m \u001b[0;34m'inline'\u001b[0m\u001b[0;34m)\u001b[0m\u001b[0;34m\u001b[0m\u001b[0;34m\u001b[0m\u001b[0m\n\u001b[1;32m      2\u001b[0m \u001b[0;34m\u001b[0m\u001b[0m\n\u001b[0;32m----> 3\u001b[0;31m \u001b[0;32mfrom\u001b[0m \u001b[0mdot_pattern_decoder\u001b[0m\u001b[0;34m.\u001b[0m\u001b[0mdot_pattern_decoder\u001b[0m \u001b[0;32mimport\u001b[0m \u001b[0mDotPatternDecoder\u001b[0m\u001b[0;34m\u001b[0m\u001b[0;34m\u001b[0m\u001b[0m\n\u001b[0m\u001b[1;32m      4\u001b[0m \u001b[0;32mfrom\u001b[0m \u001b[0mdot_pattern_decoder\u001b[0m\u001b[0;34m.\u001b[0m\u001b[0mprinter\u001b[0m \u001b[0;32mimport\u001b[0m \u001b[0mPrinter\u001b[0m\u001b[0;34m\u001b[0m\u001b[0;34m\u001b[0m\u001b[0m\n\u001b[1;32m      5\u001b[0m \u001b[0;32mfrom\u001b[0m \u001b[0mdot_pattern_decoder\u001b[0m\u001b[0;34m.\u001b[0m\u001b[0mconstants\u001b[0m \u001b[0;32mimport\u001b[0m \u001b[0mConstants\u001b[0m\u001b[0;34m\u001b[0m\u001b[0;34m\u001b[0m\u001b[0m\n",
      "\u001b[0;32m~/projects/diploma/dot_pattern_decoder/dot_pattern_decoder.py\u001b[0m in \u001b[0;36m<module>\u001b[0;34m\u001b[0m\n\u001b[1;32m      4\u001b[0m \u001b[0;32mimport\u001b[0m \u001b[0mcv2\u001b[0m\u001b[0;34m\u001b[0m\u001b[0;34m\u001b[0m\u001b[0m\n\u001b[1;32m      5\u001b[0m \u001b[0;32mimport\u001b[0m \u001b[0mnumpy\u001b[0m \u001b[0;32mas\u001b[0m \u001b[0mnp\u001b[0m\u001b[0;34m\u001b[0m\u001b[0;34m\u001b[0m\u001b[0m\n\u001b[0;32m----> 6\u001b[0;31m \u001b[0;32mfrom\u001b[0m \u001b[0mconstants\u001b[0m \u001b[0;32mimport\u001b[0m \u001b[0mConstants\u001b[0m\u001b[0;34m\u001b[0m\u001b[0;34m\u001b[0m\u001b[0m\n\u001b[0m\u001b[1;32m      7\u001b[0m \u001b[0;32mfrom\u001b[0m \u001b[0mskimage\u001b[0m\u001b[0;34m.\u001b[0m\u001b[0mmeasure\u001b[0m \u001b[0;32mimport\u001b[0m \u001b[0mlabel\u001b[0m\u001b[0;34m,\u001b[0m \u001b[0mregionprops\u001b[0m\u001b[0;34m\u001b[0m\u001b[0;34m\u001b[0m\u001b[0m\n\u001b[1;32m      8\u001b[0m \u001b[0;32mfrom\u001b[0m \u001b[0mhelpers\u001b[0m \u001b[0;32mimport\u001b[0m \u001b[0msequence_p\u001b[0m\u001b[0;34m,\u001b[0m \u001b[0mtranspose\u001b[0m\u001b[0;34m,\u001b[0m \u001b[0mfind\u001b[0m\u001b[0;34m\u001b[0m\u001b[0;34m\u001b[0m\u001b[0m\n",
      "\u001b[0;31mModuleNotFoundError\u001b[0m: No module named 'constants'"
     ]
    }
   ],
   "source": [
    "%matplotlib inline\n",
    "\n",
    "from dot_pattern_decoder.dot_pattern_decoder import DotPatternDecoder\n",
    "from dot_pattern_decoder.printer import Printer\n",
    "from dot_pattern_decoder.constants import Constants\n",
    "\n",
    "decoder = DotPatternDecoder(Path.cwd().joinpath('../2020-04-08_22-00-09.jpg'))\n",
    "\n",
    "decoder.get_position_codes(decoder.preprocess_image())\n",
    "decoder.correction_position_2(decoder.x_codes, decoder.y_codes)\n",
    "decoder.correction_position_2(decoder.x_codes, decoder.x_codes)"
   ]
  },
  {
   "cell_type": "markdown",
   "metadata": {
    "hide_input": true
   },
   "source": [
    "# Декодирование позиции\n",
    "\n",
    "## Обработка изображения\n",
    "\n",
    "\n",
    "В умных ручках используются инфракрасные камеры и прозрачные в этом спектре\n",
    "чернила. За счет этого чернила не мешают позиционироваться на листах при письме.\n",
    "Камера же делает снимки только тогда, когда на стержень оказывается давление.\n",
    "Поэтому задача оцифровки рукописного текста и изображений в случае умных ручек\n",
    "сводится к правильному декодированию последовательности таких снимков в координаты.\n",
    "\n",
    "\n",
    "Первым этапом декодирования, после получения изображения, содержащего блок\n",
    "минимального размера (8x8), является препроцессинг. **Исходное изображение (а)** \n",
    "переводится в **оттенки серого (б)**, а потом **бинаризуется (в)** (значение порога выведено \n",
    "эмпирически). Из получившегося изображения необходимо **удалить шумы (г)**, чтобы убрать \n",
    "артефакты печати и повысить качество распознавания. Для этого используется медианный \n",
    "фильтр (значение которого также выведено эмпирически)."
   ]
  },
  {
   "cell_type": "code",
   "execution_count": null,
   "metadata": {
    "hide_input": true,
    "scrolled": false
   },
   "outputs": [],
   "source": [
    "Printer.plot_images([\n",
    "    (decoder.raw_image, 'Исходное (а)'), \n",
    "    (decoder.image_grayscale, 'Оттенки серого (б)'),\n",
    "    (decoder.black_white_image, f'ЧБ с порогом {threshold_for_bw} (в)'),\n",
    "])"
   ]
  },
  {
   "cell_type": "code",
   "execution_count": null,
   "metadata": {
    "hide_input": false,
    "scrolled": true
   },
   "outputs": [],
   "source": [
    "deleted_noise_image = black_white_image.filter(ImageFilter.MedianFilter(3))\n",
    "pixels_array = np.array(deleted_noise_image.convert(mode='1'))\n",
    "centroids = get_centroids(pixels_array) \n",
    "\n",
    "centroids_with_neighbours = []\n",
    "for point in centroids:\n",
    "    x, y = point\n",
    "    offsets = [-1, 0, 1]\n",
    "    for offset_x in offsets:\n",
    "        for offset_y in offsets:\n",
    "            centroids_with_neighbours.append((x + offset_x, y + offset_y))\n",
    "\n",
    "centroids_zero_array = np.zeros_like(deleted_noise_image)\n",
    "for y in range(deleted_noise_image.height):\n",
    "    for x in range(deleted_noise_image.width):\n",
    "        centroids_zero_array[y, x] = [255, 255]\n",
    "\n",
    "centroids_image = points_to_image(centroids_zero_array, centroids_with_neighbours)\n",
    "\n",
    "Printer.plot_images([\n",
    "    (deleted_noise_image, 'После удаления шума (г)'),\n",
    "    (points_to_image(deleted_noise_image, centroids_with_neighbours), 'ЧБ с центроидами (а)'),\n",
    "    (centroids_image, 'Только центроиды (б)')\n",
    "])"
   ]
  },
  {
   "cell_type": "markdown",
   "metadata": {},
   "source": [
    "Нужно отметить, что в данном изложении алгоритма используются относительно выровненные изрбражения.\n",
    "Ручка же делает снимки под наклоном в силу того, что это происходит при письме. Причем важно учесть,\n",
    "что угол наклона может варьироваться очень сильно, что делает позиционирование невозможным без\n",
    "выравнивания изображения.\n",
    "\n",
    "Точки исходного изображения представляются на бинаризованном изображении в виде областей белых пикселей.\n",
    "С помощью инструмента regionprops из пакета skimage находим центроиды данных областей (**изображение (а)** показывает бинарное изображение с наложенными центроидами, а **изображение (б)** только центроиды). \n",
    "\n",
    "Важно отметить, что в случае неправильной фильтрации изображения, слишком низком пороге для бинаризации, некачественного исходного снимка, либо поврежденного бумажного носителя может возникнуть ситуация, когда возникнут лишние точки, либо пропадут нужные. В случае первых двух проблем нужно провести эксперименты для вычисления оптимальных параметров, а в случае других - попробовать поискать на изображении другой валидный блок, если таких нет, а коррекция ошибок не справляется - спозиционироваться невозможно."
   ]
  },
  {
   "cell_type": "code",
   "execution_count": null,
   "metadata": {
    "hide_input": true
   },
   "outputs": [],
   "source": [
    "import cv2\n",
    "\n",
    "def filter_with_threshold(matrix, threshold):\n",
    "    filtered = np.zeros_like(matrix)\n",
    "    points = []\n",
    "    for y in range(len(filtered)):\n",
    "        raw = []\n",
    "        need_append = False\n",
    "        for x in range(len(filtered[y])):\n",
    "            if matrix[y, x] > threshold:\n",
    "                filtered[y, x] = matrix[y, x]\n",
    "                raw.append((x, y))\n",
    "                need_append = True\n",
    "                \n",
    "        if need_append:\n",
    "            points.append(raw)\n",
    "                \n",
    "                \n",
    "    return (np.log(1+np.abs(filtered)), points)\n",
    "\n",
    "\n",
    "def fft(image_for_fft, threshold):\n",
    "    image_for_cv = cv2.cvtColor(np.array(image_for_fft), cv2.COLOR_RGB2GRAY)    \n",
    "\n",
    "    img_c2 = np.fft.fft2(image_for_cv)\n",
    "    img_c3 = np.fft.ifftshift(img_c2)\n",
    "    img_c5, points = filter_with_threshold(img_c3, img_c3.max() * threshold)\n",
    "#   img_c5, points = img_c3, points\n",
    "    \n",
    "    return img_c5, points\n",
    "\n",
    "\n",
    "image_fft, fft_points = fft(raw_image.convert(mode='RGB'), 0.06)\n",
    "ret, image_fft = cv2.threshold(image_fft, 1, 255, cv2.THRESH_BINARY)\n",
    "\n",
    "Printer.plot_images([\n",
    "    ( raw_image, \"Original Image\" ),\n",
    "    ( image_fft, \"After FFT with threshold\" )\n",
    "])"
   ]
  },
  {
   "cell_type": "code",
   "execution_count": null,
   "metadata": {
    "hide_input": false
   },
   "outputs": [],
   "source": [
    "N = int(math.sqrt(len(centroids)))\n",
    "centroids_in_grid = centroids[np.argsort(centroids[:, 0])].reshape(N, N, 2)\n",
    "\n",
    "for i in range(N):\n",
    "    centroids_in_grid[i] = centroids_in_grid[i][np.argsort(centroids_in_grid[i][:, 1])]\n",
    "    \n",
    "x_coordinates_of_centroids = centroids_in_grid[:, :, 0]\n",
    "average_x = x_coordinates_of_centroids.mean(axis = 1)"
   ]
  },
  {
   "cell_type": "code",
   "execution_count": null,
   "metadata": {
    "hide_input": true
   },
   "outputs": [],
   "source": [
    "y_coordinates_of_centroids = centroids_in_grid[:, :, 1]\n",
    "average_y = y_coordinates_of_centroids.mean(axis = 0)"
   ]
  },
  {
   "cell_type": "code",
   "execution_count": null,
   "metadata": {
    "hide_input": true
   },
   "outputs": [],
   "source": [
    "from PIL import ImageDraw\n",
    "\n",
    "def add_virtual_lines(image, values_x, values_y):\n",
    "    virtual_lines = image.convert(mode='RGB')\n",
    "    drawer = ImageDraw.Draw(virtual_lines)\n",
    "    color = (0, 255, 255)\n",
    "    for x in values_x:\n",
    "        drawer.line([(x, 0), (x, virtual_lines.height)], fill=color, width=1)\n",
    "\n",
    "    for y in values_y:\n",
    "        drawer.line([(0, y), (virtual_lines.width, y)], fill=color, width=1)\n",
    "    \n",
    "    return virtual_lines\n",
    "\n",
    "Printer.plot_images([\n",
    "    (add_virtual_lines(deleted_noise_image, average_y, average_x), ''),\n",
    "    (add_virtual_lines(centroids_image, average_y, average_x), '')\n",
    "])"
   ]
  },
  {
   "cell_type": "markdown",
   "metadata": {
    "hide_input": true
   },
   "source": [
    "## Вычисление позиций точек\n",
    "\n",
    "Координаты точек раскладываются в две таблицы - одна для координат X (Таблица 1), \n",
    "а вторая для координат Y (Таблица 2). "
   ]
  },
  {
   "cell_type": "code",
   "execution_count": null,
   "metadata": {},
   "outputs": [],
   "source": [
    "print('Таблица 1. X-координаты точек')\n",
    "Printer.print_table(x_coordinates_of_centroids)"
   ]
  },
  {
   "cell_type": "code",
   "execution_count": null,
   "metadata": {},
   "outputs": [],
   "source": [
    "print('Таблица 2. Y-координаты точек')\n",
    "Printer.print_table(y_coordinates_of_centroids)"
   ]
  },
  {
   "cell_type": "markdown",
   "metadata": {},
   "source": [
    "В **Таблице 1** не просто так отмечены столбцы, а в **Таблице 2** - строки. Это связано с тем, как кодируется информация о положении в данном шаблоне. На что конкретно это влияет будет показано ниже, сейчас же достаточно знать, что позиция на листе закодирована таким образом: информация о столбце в координатах X, а о строке в координатах Y. "
   ]
  },
  {
   "cell_type": "code",
   "execution_count": null,
   "metadata": {
    "hide_input": false,
    "scrolled": false
   },
   "outputs": [],
   "source": [
    "print('Таблица 3. Некоторые параметры X-диапозонов')\n",
    "\n",
    "max_x = x_coordinates_of_centroids.max(axis = 1)\n",
    "min_x = x_coordinates_of_centroids.min(axis = 1)\n",
    "difference_x = max_x - min_x\n",
    "\n",
    "Printer.print_x_params(min_x, max_x, difference_x, average_x)"
   ]
  },
  {
   "cell_type": "code",
   "execution_count": null,
   "metadata": {
    "hide_input": true
   },
   "outputs": [],
   "source": [
    "print('Таблица 4. Некоторые параметры Y-диапозонов')\n",
    "\n",
    "max_y = y_coordinates_of_centroids.max(axis = 0)\n",
    "min_y = y_coordinates_of_centroids.min(axis = 0)\n",
    "difference_y = max_y - min_y\n",
    "\n",
    "Printer.print_y_params(min_y, max_y, difference_y, average_y)"
   ]
  },
  {
   "cell_type": "markdown",
   "metadata": {
    "hide_input": true
   },
   "source": [
    "### Позиции точек и коррекция ошибок распознавания\n",
    "\n",
    "\n",
    "У точек есть 4 варианта смещения относительно номинальной позиции (пересечение вертикальной и горизонтальной линии). \n",
    "\n",
    "![img](img/image002.jpg)\n",
    "\n",
    "Следовательно, каждая точка кодирует 2 бита информации. Один из битов для кодирования столбца (далее называется x бит), а второй - для строки (y бит)."
   ]
  },
  {
   "cell_type": "code",
   "execution_count": null,
   "metadata": {
    "hide_input": true,
    "scrolled": true
   },
   "outputs": [],
   "source": [
    "Printer.print_named_rows(constants.BITS_TABLE, ['x bit', 'y bit'])"
   ]
  },
  {
   "cell_type": "markdown",
   "metadata": {},
   "source": [
    "Из относительных положений внутри одного столбца точки можно разделить на 3 позиции: левая (L), средняя (M) и правая (R), в зависимости от того, в каком направлении смещена точка относительно оси X, либо оси Y. Обозначим эти позиици через { -1, 0, 1 } соответственно. По таблицу приведенной ниже видно, что позиции вверх/вниз и влево/вправо неразличимы при проекции на ось X и ось Y соответственно. "
   ]
  },
  {
   "cell_type": "code",
   "execution_count": null,
   "metadata": {
    "hide_input": true
   },
   "outputs": [],
   "source": [
    "Printer.print_named_rows(constants.DIRECTIONS_TABLE, ['x bit', 'y bit'])"
   ]
  },
  {
   "cell_type": "markdown",
   "metadata": {},
   "source": [
    "В основном, в диапозонах есть точки всех типо, но в редких случаях там присутвуют точки только двух видов (L и M, либо M и R). Такой случай необходимо обрабатывать отдельно. Таким образом, все столбцы можно раздить на классы A и B. Для точек из класса А присваиваются коды, как было сказано выше. А для точек из класа B все так же, но расстояние между максимумом и минимумом делится на два интервала, а коды меняются { -2, 2 }. "
   ]
  },
  {
   "cell_type": "code",
   "execution_count": null,
   "metadata": {
    "hide_input": false
   },
   "outputs": [],
   "source": [
    "threshold_for_class = 2/3 * difference_x.max()\n",
    "classes_x = [ 'A' if diff > threshold_for_class else 'B' for diff in difference_x ]\n",
    "# print(threshold_for_class)\n",
    "\n",
    "threshold_for_class = 2/3 * difference_y.max()\n",
    "classes_y = [ 'A' if diff > threshold_for_class else 'B' for diff in difference_y ]\n",
    "# print(threshold_for_class)\n",
    "\n",
    "\n",
    "print('Таблица 5. Классы X-диапозонов')\n",
    "Printer.print_named_rows({'class': classes_x}, [f'x_{i}' for i in range(N)])\n",
    "print()\n",
    "\n",
    "print('Таблица 6. Классы Y-диапозонов')\n",
    "Printer.print_named_rows({'class': classes_y}, [f'y_{i}' for i in range(N)])"
   ]
  },
  {
   "cell_type": "code",
   "execution_count": null,
   "metadata": {
    "hide_input": false
   },
   "outputs": [],
   "source": [
    "def split_into_three_intervals(minimum, maximum):\n",
    "    diff = maximum - minimum\n",
    "    border_1 = minimum + 1/3 * diff\n",
    "    border_2 = minimum + 2/3 * diff\n",
    "    return ((minimum, border_1), (border_1, border_2), (border_2, maximum))\n",
    "\n",
    "\n",
    "def split_into_two_intervals(minimum, maximum):\n",
    "    diff = maximum - minimum\n",
    "    border_1 = minimum + 1/2 * diff\n",
    "    return ((minimum, border_1),(border_1, maximum))\n",
    "\n",
    "\n",
    "def value_belongs_to_interval(value, interval):\n",
    "    return interval[0] <= value and value <= interval[1]\n",
    "\n",
    "\n",
    "def get_position_code(value, intervals, codes):\n",
    "    for i in range(len(intervals)):\n",
    "        if value_belongs_to_interval(value, intervals[i]):\n",
    "            return codes[i]\n",
    "            \n",
    "\n",
    "def split_into_intervals(minimum, maximum, klass):\n",
    "    if klass == 'A':\n",
    "        return split_into_three_intervals(minimum, maximum)\n",
    "    else:\n",
    "        return split_into_two_intervals(minimum, maximum)\n",
    "\n",
    "    \n",
    "def get_position_codes(coordinates, minimums, maximums, klasses):    \n",
    "    intervals = [\n",
    "        split_into_intervals(minimum, maximum, klass)\n",
    "        for minimum, maximum, klass in zip(minimums, maximums, klasses)\n",
    "    ]\n",
    "#     display(tabulate.tabulate(intervals, [], tablefmt=\"html\"))\n",
    "\n",
    "    codes = np.zeros_like(coordinates)\n",
    "    for i in range(len(codes)):\n",
    "        for j in range(len(codes[i])):\n",
    "            value = coordinates[i,j]\n",
    "            interval = intervals[i]\n",
    "            posibles_codes = [-1, 0, 1] if klasses[i] == 'A' else [-2, 2]\n",
    "            codes[i,j] = get_position_code(value, interval, posibles_codes)\n",
    "    \n",
    "    return codes\n",
    "\n",
    "\n",
    "x_codes = get_position_codes(x_coordinates_of_centroids, min_x, max_x, classes_x)"
   ]
  },
  {
   "cell_type": "code",
   "execution_count": null,
   "metadata": {
    "hide_input": false
   },
   "outputs": [],
   "source": [
    "y_codes = get_position_codes(y_coordinates_of_centroids.transpose(), min_y, max_y, classes_y).transpose()\n",
    "for i in range(len(y_codes)):\n",
    "    for j in range(len(y_codes)):\n",
    "        if y_codes[i, j] != 0: \n",
    "            y_codes[i, j] = -1 * y_codes[i, j]\n",
    "\n",
    "Printer.print_directions(x_codes, y_codes)"
   ]
  },
  {
   "cell_type": "markdown",
   "metadata": {},
   "source": [
    "Для коррекции таблицы воспользуемся таблицей, приведенной ниже."
   ]
  },
  {
   "cell_type": "code",
   "execution_count": null,
   "metadata": {
    "hide_input": true
   },
   "outputs": [],
   "source": [
    "Printer.print_vertical_table([ \n",
    "        [ '-1/1' ,  '0'   ,     '-'      ,  '-'            ],\n",
    "        [ '-1/1' , '-2/2' , 'sign(in_1)' ,  '0'            ],\n",
    "        [ '0'    , '-2/2' ,    '0'       ,  'sign(in_2)'   ],\n",
    "        [ '1/-1' , '-1/1' ,    'D'       ,  'D'            ],\n",
    "        [ '0'    , '0'    ,    'D'       ,  'D'            ],\n",
    "        [ '2/-2' , '-2/2' ,     '-'      ,  '-'            ]\n",
    "    ], ['in 1', 'in 2', 'out 1', 'out 2']\n",
    ")"
   ]
  },
  {
   "cell_type": "code",
   "execution_count": null,
   "metadata": {
    "hide_input": false,
    "scrolled": false
   },
   "outputs": [],
   "source": [
    "def replace(source, replacements):\n",
    "    destination = np.zeros_like(source)\n",
    "    for i in range(len(destination)):\n",
    "        for what, to in replacements:\n",
    "            if source[i] == what:\n",
    "                destination[i] = to \n",
    "                break\n",
    "            else: \n",
    "                destination[i] = source[i]\n",
    "       \n",
    "    return destination\n",
    "\n",
    "\n",
    "def replace_code_in_line(line, code, to):\n",
    "    replace(line, [(code, to), (-1 * code, sign(-1 * y_code) * to)])\n",
    "\n",
    "    \n",
    "def correction_position_2(x_lines, y_lines):\n",
    "    for j in range(len(x_lines)):\n",
    "        x_line, y_line = x_lines[j], y_lines[j]\n",
    "        for i, (x_code, y_code) in enumerate(zip(x_line, y_line)):\n",
    "            if (abs(y_code) == 2):\n",
    "                if abs(x_code) == 1:\n",
    "                    y_lines[:, i] = replace(\n",
    "                        y_lines[:, i], [(y_code, 0), (-1 * y_code, -1 * np.sign(y_code))]\n",
    "                    )\n",
    "                elif abs(x_code) == 0:\n",
    "                    y_lines[:, i] = replace(\n",
    "                        y_lines[:, i], [(y_code, np.sign(y_code)), (-1 * y_code, 0)]\n",
    "                    )\n",
    "                \n",
    "                \n",
    "x_codes_corrected, y_codes_corrected = x_codes.copy(), y_codes.copy() \n",
    "\n",
    "correction_position_2(x_codes_corrected, y_codes_corrected)\n",
    "correction_position_2(y_codes_corrected, x_codes_corrected)\n",
    "\n",
    "Printer.print_named_rows(constants.DIRECTIONS_TABLE, ['x bit', 'y bit'])\n",
    "\n",
    "Printer.print_directions(x_codes_corrected.transpose(), y_codes_corrected.transpose())\n",
    "\n",
    "Printer.plot_images([\n",
    "    (add_virtual_lines(deleted_noise_image, average_y, average_x), ''),\n",
    "])"
   ]
  },
  {
   "cell_type": "code",
   "execution_count": null,
   "metadata": {},
   "outputs": [],
   "source": [
    "def filter_by_class(classes, widths, target_class):\n",
    "    return list(map(\n",
    "            lambda v: v[1],\n",
    "            filter(lambda c: c[0] == target_class, zip(classes, widths))\n",
    "        )\n",
    "    )\n",
    "\n",
    "\n",
    "def get_avg_by_class(classes, target_class, widths):\n",
    "    return np.array(list(filter_by_class(classes, widths, target_class))).mean()\n",
    "\n",
    "\n",
    "def get_new_position(coordinate, width, avg_width):\n",
    "    return coordinate - width / 2\n",
    "\n",
    "\n",
    "def correction_virtual_lines(lines_coordinate, classes, widths):\n",
    "    avg_for_class_a = get_avg_by_class(classes, 'A', widths)\n",
    "    new_coordinates = [ \n",
    "        get_new_position(coordinate, width, avg_for_class_a) \n",
    "        for coordinate, width\n",
    "        in zip(\n",
    "            filter_by_class(classes, lines_coordinate, 'B'), \n",
    "            filter_by_class(classes, widths, 'B')\n",
    "        ) \n",
    "    ]\n",
    "    j = 0\n",
    "    for i in range(len(lines_coordinate)):\n",
    "        if classes[i] == 'B':\n",
    "            lines_coordinate[i] = new_coordinates[j]\n",
    "            j += 1\n",
    "            \n",
    "    return lines_coordinate\n",
    "\n",
    "lines_after_correction = correction_virtual_lines(average_x.copy(), classes_x, difference_x)\n",
    "\n",
    "print(average_x)\n",
    "print(classes_x)\n",
    "print(lines_after_correction)\n",
    "\n",
    "Printer.plot_images([\n",
    "    (add_virtual_lines(centroids_image, average_x, []), ''),\n",
    "    (add_virtual_lines(centroids_image, lines_after_correction, []), ''),\n",
    "])"
   ]
  },
  {
   "cell_type": "code",
   "execution_count": null,
   "metadata": {},
   "outputs": [],
   "source": [
    "\n",
    "# print(line_x_coordinate)\n",
    "reconstructed_x_lines = reconstruct_line(x_codes_corrected, x_coordinates_of_centroids)\n",
    "reconstructed_y_lines = reconstruct_line(\n",
    "    y_codes_corrected.transpose(), \n",
    "    y_coordinates_of_centroids.transpose()\n",
    ")\n",
    "\n",
    "\n",
    "display(tabulate.tabulate(\n",
    "    [['X'] + reconstructed_x_lines], [f'line {i}' for i in range(N)], tablefmt=\"html\"\n",
    "))\n",
    "\n",
    "display(tabulate.tabulate(\n",
    "    [['Y'] + reconstructed_y_lines], [f'line {i}' for i in range(N)], tablefmt=\"html\"\n",
    "))\n",
    "plot_images([\n",
    "    (add_virtual_lines(deleted_noise_image, reconstructed_x_lines, reconstructed_x_lines), ''),\n",
    "    (add_virtual_lines(centroids_image, reconstructed_x_lines, reconstructed_x_lines), '')\n",
    "])"
   ]
  },
  {
   "cell_type": "code",
   "execution_count": null,
   "metadata": {},
   "outputs": [],
   "source": []
  }
 ],
 "metadata": {
  "hide_input": false,
  "kernelspec": {
   "display_name": "Python 3",
   "language": "python",
   "name": "python3"
  },
  "language_info": {
   "codemirror_mode": {
    "name": "ipython",
    "version": 3
   },
   "file_extension": ".py",
   "mimetype": "text/x-python",
   "name": "python",
   "nbconvert_exporter": "python",
   "pygments_lexer": "ipython3",
   "version": "3.7.7"
  },
  "latex_envs": {
   "LaTeX_envs_menu_present": true,
   "autoclose": false,
   "autocomplete": true,
   "bibliofile": "biblio.bib",
   "cite_by": "apalike",
   "current_citInitial": 1,
   "eqLabelWithNumbers": true,
   "eqNumInitial": 1,
   "hotkeys": {
    "equation": "Ctrl-E",
    "itemize": "Ctrl-I"
   },
   "labels_anchors": false,
   "latex_user_defs": false,
   "report_style_numbering": false,
   "user_envs_cfg": false
  },
  "toc": {
   "base_numbering": 1,
   "nav_menu": {},
   "number_sections": true,
   "sideBar": true,
   "skip_h1_title": false,
   "title_cell": "Table of Contents",
   "title_sidebar": "Contents",
   "toc_cell": false,
   "toc_position": {},
   "toc_section_display": true,
   "toc_window_display": false
  }
 },
 "nbformat": 4,
 "nbformat_minor": 4
}
